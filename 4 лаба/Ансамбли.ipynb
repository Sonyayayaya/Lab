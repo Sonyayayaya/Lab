{
 "cells": [
  {
   "cell_type": "markdown",
   "id": "3085ec43-34bb-4afb-9515-517e0489db3e",
   "metadata": {},
   "source": [
    "## Ансамбли и полносвязные нейронные сети\n",
    "В этом ноутбуке вам нужно обучить модели на датасете классификации из предыдущего ноутбука и сравнить результаты. Вам будет предоставлен baseline, на основе которого вы будете доделывать предсказывающие модели. Оценка лабы будет зависеть от ROC-AUC на тестовых данных по следующим критериям:\n",
    "\\\n",
    "AUC - на тестовых данных\n",
    "- $AUC \\leq 0.76$ - 0 баллов\n",
    "- $0.76 < AUC \\leq 0.77$ - 2 балла\n",
    "- $0.77 < AUC \\leq 0.78$ - 4 балла\n",
    "- $0.78 < AUC \\leq 0.79$ - 6 баллов\n",
    "- $0.79 < AUC \\leq 0.80$ - 8 баллов\n",
    "- $AUC > 0.80$ - 10 баллов\n"
   ]
  },
  {
   "cell_type": "code",
   "execution_count": 1,
   "id": "ec07e3a2-480a-4350-868e-02679ff2aada",
   "metadata": {
    "tags": []
   },
   "outputs": [],
   "source": [
    "from sklearn.ensemble import RandomForestClassifier, GradientBoostingClassifier\n",
    "from sklearn.model_selection import GridSearchCV\n",
    "from sklearn.model_selection import RandomizedSearchCV\n",
    "from sklearn.neural_network import MLPClassifier\n",
    "from sklearn.utils import resample\n",
    "\n",
    "from sklearn.metrics import roc_auc_score, precision_score, recall_score, roc_curve, accuracy_score\n",
    "\n",
    "from sklearn.model_selection import train_test_split\n",
    "from random import randint\n",
    "\n",
    "import matplotlib.pyplot as plt\n",
    "import pandas as pd\n",
    "import numpy as np"
   ]
  },
  {
   "cell_type": "code",
   "execution_count": 2,
   "id": "563ad31b-5c83-4366-819a-34dad4edecdc",
   "metadata": {
    "tags": []
   },
   "outputs": [
    {
     "name": "stdout",
     "output_type": "stream",
     "text": [
      "   Creditability  Account_Balance  Duration_of_Credit_monthly  \\\n",
      "0              1                1                          18   \n",
      "1              1                1                           9   \n",
      "2              1                2                          12   \n",
      "3              1                1                          12   \n",
      "4              1                1                          12   \n",
      "\n",
      "   Payment_Status_of_Previous_Credit  Purpose  Credit_Amount  \\\n",
      "0                                  4        2           1049   \n",
      "1                                  4        0           2799   \n",
      "2                                  2        9            841   \n",
      "3                                  4        0           2122   \n",
      "4                                  4        0           2171   \n",
      "\n",
      "   Value_Savings_Stocks  Length_of_current_employment  Instalment_per_cent  \\\n",
      "0                     1                             2                    4   \n",
      "1                     1                             3                    2   \n",
      "2                     2                             4                    2   \n",
      "3                     1                             3                    3   \n",
      "4                     1                             3                    4   \n",
      "\n",
      "   Sex_Marital_Status  ...  Duration_in_Current_address  \\\n",
      "0                   2  ...                            4   \n",
      "1                   3  ...                            2   \n",
      "2                   2  ...                            4   \n",
      "3                   3  ...                            2   \n",
      "4                   3  ...                            4   \n",
      "\n",
      "   Most_valuable_available_asset  Age_years  Concurrent_Credits  \\\n",
      "0                              2         21                   3   \n",
      "1                              1         36                   3   \n",
      "2                              1         23                   3   \n",
      "3                              1         39                   3   \n",
      "4                              2         38                   1   \n",
      "\n",
      "   Type_of_apartment  No_of_Credits_at_this_Bank  Occupation  \\\n",
      "0                  1                           1           3   \n",
      "1                  1                           2           3   \n",
      "2                  1                           1           2   \n",
      "3                  1                           2           2   \n",
      "4                  2                           2           2   \n",
      "\n",
      "   No_of_dependents  Telephone  Foreign_Worker  \n",
      "0                 1          1               1  \n",
      "1                 2          1               1  \n",
      "2                 1          1               1  \n",
      "3                 2          1               2  \n",
      "4                 1          1               2  \n",
      "\n",
      "[5 rows x 21 columns]\n"
     ]
    }
   ],
   "source": [
    "data = pd.read_csv('german.csv', sep=';')\n",
    "print(data.head())\n",
    "\n",
    "X = data.iloc[:, 1:]\n",
    "\n",
    "y = data.iloc[:, 0]\n",
    "y.to_numpy()\n",
    "x_resampled = resample(X[y==1], n_samples=X[y==0].shape[0], random_state=1000)\n",
    "X_ = np.concatenate((X[y==0], x_resampled))\n",
    "y_ = np.concatenate((y[y==0], np.ones(shape=(X[y==0].shape[0],), dtype=np.int32)))\n",
    "\n",
    "X_train, X_test, y_train, y_test = train_test_split(X_, y_, test_size=0.2, random_state=42)"
   ]
  },
  {
   "cell_type": "code",
   "execution_count": 3,
   "id": "f93737ec-e5eb-4d72-8beb-5dba4d4c581f",
   "metadata": {
    "tags": []
   },
   "outputs": [
    {
     "data": {
      "image/png": "[encoded data removed]",
      "text/plain": [
       "<Figure size 640x480 with 1 Axes>"
      ]
     },
     "metadata": {},
     "output_type": "display_data"
    }
   ],
   "source": [
    "plt.hist(y_train, bins=2, edgecolor='k')\n",
    "plt.xticks([0, 1])\n",
    "plt.xlabel('Class (0: Non-Creditworthy, 1: Creditworthy)')\n",
    "plt.ylabel('Count')\n",
    "plt.title('Distribution of Classes in Training Data')\n",
    "plt.show()"
   ]
  },
  {
   "cell_type": "code",
   "execution_count": 119,
   "id": "c1cf8d00-92a3-4b62-bca4-d854b72574d1",
   "metadata": {
    "tags": []
   },
   "outputs": [
    {
     "name": "stdout",
     "output_type": "stream",
     "text": [
      "{'max_depth': 20, 'max_features': 3, 'max_leaf_nodes': 5, 'min_samples_leaf': 70, 'min_samples_split': 50, 'n_estimators': 500}\n",
      "Random Forest метрики:\n",
      "ROC AUC: 0.77\n",
      "Accuracy: 0.77\n",
      "Precision: 0.77\n",
      "Recall: 0.74\n"
     ]
    }
   ],
   "source": [
    "# Обучение Random Forest\n",
    "rf_param_grid = {\n",
    "    'n_estimators': [500], # 100 колличество деревьев в лесу; прямая зависимость с точностью, обратная со скоростью алгоритма\n",
    "    # 'criterion': ['log_loss'], # функция для измерения качества разделения\n",
    "    'max_depth': [20],\n",
    "    'max_leaf_nodes':[5], # 2 максимальное количество конечных узлов, которое может иметь дерево решений\n",
    "    'min_samples_split': [50], # 2 минимальное количество выборок, необходимое для разделения внутреннего узла: значение по умолчанию\n",
    "    'min_samples_leaf': [70], # 1 минимальное количество выборок, необходимое для присутствия на листовом узле\n",
    "    'max_features': [3] \n",
    "}\n",
    "# n_estimators=100,\n",
    "rf = RandomForestClassifier()#48 рандомизация загрузки выборок \n",
    "rf_model = GridSearchCV(rf, param_grid= rf_param_grid, cv=5, n_jobs = 1) #n_jobs сообщает механизму, сколько процессоров он может использовать\n",
    "rf_model.fit(X_train, y_train)\n",
    "# print(rf_model.best_params_)\n",
    "# Прогноз на тестовых данных\n",
    "rf_pred = rf_model.predict(X_test)\n",
    "print(rf_model.best_params_)\n",
    "# Расчет метрик для Random Forest\n",
    "rf_roc_auc = roc_auc_score(y_test, rf_pred)\n",
    "rf_accuracy = accuracy_score(y_test, rf_pred)\n",
    "rf_precision = precision_score(y_test, rf_pred)\n",
    "rf_recall = recall_score(y_test, rf_pred)\n",
    "\n",
    "print(\"Random Forest метрики:\")\n",
    "print(f\"ROC AUC: {rf_roc_auc:.2f}\")\n",
    "print(f\"Accuracy: {rf_accuracy:.2f}\")\n",
    "print(f\"Precision: {rf_precision:.2f}\")\n",
    "print(f\"Recall: {rf_recall:.2f}\")"
   ]
  },
  {
   "cell_type": "code",
   "execution_count": 58,
   "metadata": {},
   "outputs": [
    {
     "name": "stdout",
     "output_type": "stream",
     "text": [
      "\n",
      "Gradient Boosting метрики:\n",
      "{'criterion': 'friedman_mse', 'learning_rate': 0.9, 'loss': 'log_loss', 'max_depth': 40, 'min_samples_leaf': 70, 'min_samples_split': 70, 'n_estimators': 500}\n",
      "ROC AUC: 0.78\n",
      "Accuracy: 0.78\n",
      "Precision: 0.75\n",
      "Recall: 0.79\n"
     ]
    }
   ],
   "source": [
    "# Обучение Gradient Boosting\n",
    "gb_param_grid = {\n",
    "    'n_estimators': [500],\n",
    "    'learning_rate': [0.9],\n",
    "    'max_depth': [40],\n",
    "    'criterion':['friedman_mse'],\n",
    "    'min_samples_split': [70],\n",
    "    'loss' : ['log_loss'],\n",
    "    'min_samples_leaf': [70]\n",
    "}\n",
    "gb = GradientBoostingClassifier( random_state=44)\n",
    "gb_model = GridSearchCV(gb, gb_param_grid, cv=10, n_jobs = 1)\n",
    "gb_model.fit(X_train, y_train)\n",
    "\n",
    "# Прогноз на тестовых данных\n",
    "gb_pred = gb_model.predict(X_test)\n",
    "\n",
    "# Расчет метрик для Gradient Boosting\n",
    "gb_roc_auc = roc_auc_score(y_test, gb_pred)\n",
    "gb_accuracy = accuracy_score(y_test, gb_pred)\n",
    "gb_precision = precision_score(y_test, gb_pred)\n",
    "gb_recall = recall_score(y_test, gb_pred)\n",
    "\n",
    "print(\"\\nGradient Boosting метрики:\")\n",
    "print(gb_model.best_params_)\n",
    "print(f\"ROC AUC: {gb_roc_auc:.2f}\")\n",
    "print(f\"Accuracy: {gb_accuracy:.2f}\")\n",
    "print(f\"Precision: {gb_precision:.2f}\")\n",
    "print(f\"Recall: {gb_recall:.2f}\")"
   ]
  },
  {
   "cell_type": "code",
   "execution_count": 160,
   "id": "ae1e040c-ddd0-4952-9dcb-58c1226da40a",
   "metadata": {
    "tags": []
   },
   "outputs": [
    {
     "name": "stdout",
     "output_type": "stream",
     "text": [
      "{'activation': 'logistic', 'alpha': 0.0001, 'beta_1': 0.8, 'learning_rate': 'adaptive', 'learning_rate_init': 0.00015, 'solver': 'adam'}\n",
      "\n",
      "MLP (Neural Network) метрики:\n",
      "ROC AUC: 0.72\n",
      "Accuracy: 0.72\n",
      "Precision: 0.69\n",
      "Recall: 0.74\n"
     ]
    }
   ],
   "source": [
    "# Обучение MLP (Multi-Layer Perceptron) нейронной сети\n",
    "param_grid = {\n",
    "    #'hidden_layer_sizes': [(300,)], , (50,100,50), (100,)\n",
    "    'activation': ['logistic'], #(50,),,'relu' ,,'tanh'\n",
    "    'alpha': [0.0001],\n",
    "    'solver':['adam'],#,'sgd'\n",
    "    'learning_rate': ['adaptive'], #, 'constant','invscaling' \n",
    "    'learning_rate_init':[0.00015],\n",
    "    'beta_1': [0.8]\n",
    "}\n",
    "# hidden_layer_sizes=(30,),\n",
    "mlp = MLPClassifier(max_iter=3000, random_state=42)\n",
    "mlp_model = GridSearchCV(mlp, param_grid, cv=5)\n",
    "mlp_model.fit(X_train, y_train)\n",
    "print(mlp_model.best_params_)\n",
    "# Прогноз на тестовых данных\n",
    "mlp_pred = mlp_model.predict(X_test)\n",
    "\n",
    "# Расчет метрик для MLP нейронной сети\n",
    "mlp_roc_auc = roc_auc_score(y_test, mlp_pred)\n",
    "mlp_accuracy = accuracy_score(y_test, mlp_pred)\n",
    "mlp_precision = precision_score(y_test, mlp_pred)\n",
    "mlp_recall = recall_score(y_test, mlp_pred)\n",
    "\n",
    "print(\"\\nMLP (Neural Network) метрики:\")\n",
    "print(f\"ROC AUC: {mlp_roc_auc:.2f}\")\n",
    "print(f\"Accuracy: {mlp_accuracy:.2f}\")\n",
    "print(f\"Precision: {mlp_precision:.2f}\")\n",
    "print(f\"Recall: {mlp_recall:.2f}\")"
   ]
  },
  {
   "cell_type": "markdown",
   "id": "d2d6eb00-77fd-40dc-a3c5-35c1fe0200c0",
   "metadata": {},
   "source": [
    "## Экспериментируйте\n",
    "Для получения лучшего качества придется поэкспериментировать. Подсказка: попробуйте оптимизировать гиперпараметры модели"
   ]
  },
  {
   "cell_type": "code",
   "execution_count": 46,
   "id": "007f662f",
   "metadata": {},
   "outputs": [],
   "source": [
    "data_minor = data.loc[data['Creditability'] == 0]\n",
    "data_augmented = data_minor.loc[data_minor.index.repeat(3)]\n",
    "data_balanced = pd.concat([data.loc[data['Creditability'] == 1], data_augmented]).sample(frac=1)\n",
    "\n",
    "X = data_balanced.iloc[:, 1:]\n",
    "y = data_balanced.iloc[:, 0]\n",
    "\n",
    "X_train, X_test, y_train, y_test = train_test_split(X, y, test_size=0.2, random_state= 42, )"
   ]
  },
  {
   "cell_type": "code",
   "execution_count": 47,
   "id": "9675fa89",
   "metadata": {},
   "outputs": [
    {
     "data": {
      "image/png": "[encoded data removed]",
      "text/plain": [
       "<Figure size 640x480 with 1 Axes>"
      ]
     },
     "metadata": {},
     "output_type": "display_data"
    }
   ],
   "source": [
    "plt.hist(y_train, bins=2, edgecolor='k')\n",
    "plt.xticks([0, 1])\n",
    "plt.xlabel('Class (0: Non-Creditworthy, 1: Creditworthy)')\n",
    "plt.ylabel('Count')\n",
    "plt.title('Distribution of Classes in Training Data')\n",
    "plt.show()"
   ]
  },
  {
   "cell_type": "code",
   "execution_count": 49,
   "id": "46d09f72",
   "metadata": {},
   "outputs": [
    {
     "name": "stdout",
     "output_type": "stream",
     "text": [
      "Random Forest метрики:\n",
      "ROC AUC: 0.91\n",
      "Accuracy: 0.93\n",
      "Precision: 0.97\n",
      "Recall: 0.85\n"
     ]
    }
   ],
   "source": [
    "rf_model = RandomForestClassifier()\n",
    "rf_model.fit(X_train, y_train)\n",
    "\n",
    "rf_pred = rf_model.predict(X_test)\n",
    "rf_roc_auc = roc_auc_score(y_test, rf_pred)\n",
    "mlp_accuracy = accuracy_score(y_test, rf_pred)\n",
    "mlp_precision = precision_score(y_test, rf_pred)\n",
    "mlp_recall = recall_score(y_test, rf_pred)\n",
    "print(\"Random Forest метрики:\")\n",
    "print(f\"ROC AUC: {rf_roc_auc:.2f}\")\n",
    "print(f\"Accuracy: {mlp_accuracy:.2f}\")\n",
    "print(f\"Precision: {mlp_precision:.2f}\")\n",
    "print(f\"Recall: {mlp_recall:.2f}\")"
   ]
  }
 ],
 "metadata": {
  "kernelspec": {
   "display_name": "Python 3 (ipykernel)",
   "language": "python",
   "name": "python3"
  },
  "language_info": {
   "codemirror_mode": {
    "name": "ipython",
    "version": 3
   },
   "file_extension": ".py",
   "mimetype": "text/x-python",
   "name": "python",
   "nbconvert_exporter": "python",
   "pygments_lexer": "ipython3",
   "version": "3.11.5"
  }
 },
 "nbformat": 4,
 "nbformat_minor": 5
}
