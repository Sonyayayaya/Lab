{
  "cells": [
    {
      "cell_type": "markdown",
      "metadata": {
        "id": "M-DGa20PaHnu"
      },
      "source": [
        "# Задача 1\n",
        "Написать функцию на вход которой подается строка, состоящая из латинских букв.\n",
        "Функция должна вернуть количество гласных букв (a, e, i, o, u) в этой строке. Написать тесты для кода"
      ]
    },
    {
      "cell_type": "code",
      "execution_count": 3,
      "metadata": {
        "id": "XvX8X_JJ6PCb"
      },
      "outputs": [
        {
          "name": "stdout",
          "output_type": "stream",
          "text": [
            "Колличество гласных букв a, e, i, o, u:  7\n"
          ]
        }
      ],
      "source": [
        "phrase = input('Введите строку латинскими буквами: ').lower()\n",
        "\n",
        "a, e, i, o, u = phrase.count('a'), phrase.count('e'), phrase.count('i'), phrase.count('o'), phrase.count('u')\n",
        "\n",
        "print('Колличество гласных букв a, e, i, o, u: ', a + e + i + o + u)"
      ]
    },
    {
      "cell_type": "markdown",
      "metadata": {
        "id": "t2ClV_Y0bbr6"
      },
      "source": [
        "# Задача 2\n",
        "Написать функцию на вход, которой подается строка. Функция должна вернуть true, если\n",
        "каждый символ в строке встречается только 1 раз, иначе должна вернуть false. Написать тесты для кода"
      ]
    },
    {
      "cell_type": "code",
      "execution_count": 6,
      "metadata": {
        "id": "FppbECao6VIz"
      },
      "outputs": [
        {
          "name": "stdout",
          "output_type": "stream",
          "text": [
            "True\n"
          ]
        }
      ],
      "source": [
        "phrase = input('Введите строку: ')\n",
        "unique = set(phrase)\n",
        "print(len(phrase) == len(unique))"
      ]
    },
    {
      "cell_type": "markdown",
      "metadata": {
        "id": "udRiIK1cdt6E"
      },
      "source": [
        "# Задача 3\n",
        "Написать функцию, которая принимает положительное число и возвращает количество\n",
        "бит равных 1 в этом числе. Написать тесты для кода"
      ]
    },
    {
      "cell_type": "code",
      "execution_count": 7,
      "metadata": {
        "id": "6tkfDJRz6dp_"
      },
      "outputs": [
        {
          "name": "stdout",
          "output_type": "stream",
          "text": [
            "0b11101010  -  Количество бит равных 1:  5\n"
          ]
        }
      ],
      "source": [
        "number = bin(int(input('Введите число: ')))\n",
        "print(number, ' - ', 'Количество бит равных 1: ', number.count('1')) \n",
        "#для удобства проверки вывожу и двоичное представление числа"
      ]
    },
    {
      "cell_type": "markdown",
      "metadata": {
        "id": "26dDUz-Ae17N"
      },
      "source": [
        "# Задача 4\n",
        "Написать функцию, которая принимает положительное число. Функция должна вернуть то,\n",
        "сколько раз необходимо перемножать цифры числа или результат перемножения, чтобы\n",
        "получилось число состоящее из одной цифры.\n",
        "Например, для входного числа:\n",
        "· 39 функция должна вернуть 3, так как 3*9=27 => 2*7=14 => 1*4=4\n",
        "· 4 функция должна вернуть 0, так как число уже состоит из одной цифры\n",
        "· 999 функция должна вернуть 4, так как 9*9*9=729 => 7*2*9=126 => 1*2*6=12 =>\n",
        "1*2=2. Написать тесты для кода"
      ]
    },
    {
      "cell_type": "code",
      "execution_count": 11,
      "metadata": {
        "id": "BH1A_Mgi6i4G"
      },
      "outputs": [
        {
          "name": "stdout",
          "output_type": "stream",
          "text": [
            "Количество перемножений: 4\n"
          ]
        }
      ],
      "source": [
        "number = int(input('Введите положительное число: '))\n",
        "\n",
        "def magic(number):\n",
        "    result = number\n",
        "    count = 0\n",
        "\n",
        "    while result // 10 != 0:\n",
        "        result = 1\n",
        "        while number > 0:\n",
        "            result *= number % 10\n",
        "            number //= 10\n",
        "        count += 1\n",
        "        number = result\n",
        "    print('Количество перемножений:', count)\n",
        "    \n",
        "magic(number)"
      ]
    },
    {
      "cell_type": "markdown",
      "metadata": {
        "id": "0nS-kIa8g8vd"
      },
      "source": [
        "# Задача 5\n",
        "Написать функцию, которая принимает два целочисленных вектора одинаковой длины и\n",
        "возвращает среднеквадратическое отклонение двух векторов. Написать тесты для кода"
      ]
    },
    {
      "cell_type": "code",
      "execution_count": 15,
      "metadata": {
        "id": "8iphx4LM6xbx"
      },
      "outputs": [
        {
          "name": "stdout",
          "output_type": "stream",
          "text": [
            "1.5\n"
          ]
        }
      ],
      "source": [
        "import numpy as np\n",
        "\n",
        "vec_1 = [int(i) for i in input('Введите значения для 1 вектора через пробел: ').split()] \n",
        "vec_2 = [int(i) for i in input('Введите значения для 2 вектора через пробел: ').split()] \n",
        "\n",
        "def mse(vec_1, vec_2):\n",
        "    std = np.array([vec_1, vec_2])\n",
        "    print(np.std(std, dtype = np.float64))\n",
        "\n",
        "mse(vec_1, vec_2)"
      ]
    },
    {
      "cell_type": "markdown",
      "metadata": {
        "id": "vpIPKL439zkw"
      },
      "source": [
        "# Задача 6\n",
        "Написать функцию, принимающая целое положительное число. Функция должна вернуть\n",
        "строку вида “(n1**p1)(n2**p2)…(nk**pk)” представляющая разложение числа на простые\n",
        "множители (если pi == 1, то выводить только ni).\n",
        "Например, для числа 86240 функция должна вернуть “(2**5)(5)(7**2)(11)”. Написать тесты для кода"
      ]
    },
    {
      "cell_type": "code",
      "execution_count": 16,
      "metadata": {
        "id": "pFebmcZk94Jw"
      },
      "outputs": [
        {
          "name": "stdout",
          "output_type": "stream",
          "text": [
            "(2**5)(5)(7**2)(11)\n"
          ]
        }
      ],
      "source": [
        "import math\n",
        "\n",
        "number = int(input('Введите число: '))\n",
        "answer = ''\n",
        "prev_divisor = 0\n",
        "\n",
        "for i in range(2, int(math.sqrt(number)) + 2):\n",
        "  count = 0\n",
        "  while (number % i == 0): \n",
        "    count += 1\n",
        "    number //= i \n",
        "  if count > 1:\n",
        "    answer += '(' + str(i) + '**'+ str(count) + ')'\n",
        "  elif count == 1:\n",
        "    answer += '(' + str(i) + ')'\n",
        "\n",
        "if (number != 1):\n",
        "  answer += '(' + str(number) + ')'\n",
        "print (answer)"
      ]
    },
    {
      "cell_type": "markdown",
      "metadata": {
        "id": "ps2s0BudX7A2"
      },
      "source": [
        "# Задача 7\n",
        "Написать функцию, принимающая целое число n, задающее количество кубиков. Функция\n",
        "должна определить, можно ли из данного кол-ва кубиков построить пирамиду, то есть\n",
        "можно ли представить число n как 1^2+2^2+3^2+…+k^2. Если можно, то функция должна\n",
        "вернуть k, иначе строку “It is impossible”. Написать тесты для кода"
      ]
    },
    {
      "cell_type": "code",
      "execution_count": 23,
      "metadata": {
        "id": "3YPjEXxhX_YT"
      },
      "outputs": [
        {
          "name": "stdout",
          "output_type": "stream",
          "text": [
            "k =  2\n"
          ]
        }
      ],
      "source": [
        "number = int(input('Введите общее количество кубиков: '))\n",
        "\n",
        "def pyramid(number):\n",
        "    flag = False\n",
        "    summ = 0\n",
        "    for a in range(number):\n",
        "        summ += a ** 2\n",
        "        if summ == number:\n",
        "            print('k = ', a)\n",
        "            flag = True\n",
        "            break\n",
        "    if flag == False:\n",
        "        print(\"It's impossible\")\n",
        "\n",
        "pyramid(number)"
      ]
    },
    {
      "cell_type": "markdown",
      "metadata": {
        "id": "KeKgmIdAQMEJ"
      },
      "source": [
        "# Задача 8\n",
        "Функция принимает на вход положительное число и определяет является ли оно сбалансированным, т.е. сумма цифр до средних равна сумме цифр после. Средними в случае нечетного числа цифр считать одну цифру, в случае четного - две средних. Написать тесты для кода"
      ]
    },
    {
      "cell_type": "code",
      "execution_count": 26,
      "metadata": {
        "id": "gMAAqtqlQrZt"
      },
      "outputs": [
        {
          "name": "stdout",
          "output_type": "stream",
          "text": [
            "Число сбалансировано!\n"
          ]
        }
      ],
      "source": [
        "number = int(input('Введите число: '))\n",
        "len_number = len(str(number))\n",
        "str_number = ''\n",
        "left, right = 0, 0\n",
        "\n",
        "if len_number % 2 == 1:\n",
        "  str_number = str(number)[:len_number - 2] + str(number)[len_number - 1:]\n",
        "  number = int(str_number)\n",
        "  len_number -= 1\n",
        "\n",
        "for letter in range(len_number):\n",
        "  figure = number % 10\n",
        "  if letter < len_number / 2:\n",
        "    right += figure\n",
        "  else:\n",
        "    left += figure\n",
        "\n",
        "if left == right:\n",
        "  print('Число сбалансировано!')\n",
        "else:\n",
        "  print('Число не сбалансировано!')"
      ]
    }
  ],
  "metadata": {
    "colab": {
      "provenance": []
    },
    "kernelspec": {
      "display_name": "Python 3",
      "name": "python3"
    },
    "language_info": {
      "codemirror_mode": {
        "name": "ipython",
        "version": 3
      },
      "file_extension": ".py",
      "mimetype": "text/x-python",
      "name": "python",
      "nbconvert_exporter": "python",
      "pygments_lexer": "ipython3",
      "version": "3.11.5"
    }
  },
  "nbformat": 4,
  "nbformat_minor": 0
}
